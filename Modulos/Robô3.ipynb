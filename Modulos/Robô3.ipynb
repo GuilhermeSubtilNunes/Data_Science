{
 "cells": [
  {
   "cell_type": "code",
   "execution_count": 26,
   "metadata": {},
   "outputs": [],
   "source": [
    "class Point:\n",
    "    \n",
    "    def __init__(self, x, y):\n",
    "        self.x = x\n",
    "        self.y = y"
   ]
  },
  {
   "cell_type": "code",
   "execution_count": 30,
   "metadata": {},
   "outputs": [],
   "source": [
    "class Reward(Point):\n",
    "    \n",
    "    def __init__(self, x, y, name):\n",
    "        super(Reward, self).__init__(x, y)\n",
    "        self.name = name"
   ]
  },
  {
   "cell_type": "code",
   "execution_count": 31,
   "metadata": {},
   "outputs": [],
   "source": [
    "reward1 = Reward(1, 1, 'Moeda de Ouro')"
   ]
  },
  {
   "cell_type": "code",
   "execution_count": 32,
   "metadata": {},
   "outputs": [
    {
     "name": "stdout",
     "output_type": "stream",
     "text": [
      "1\n"
     ]
    }
   ],
   "source": [
    "print(reward1.x)"
   ]
  },
  {
   "cell_type": "code",
   "execution_count": 28,
   "metadata": {},
   "outputs": [],
   "source": [
    "class Robo(Point):\n",
    "    \n",
    "    def move_up(self):\n",
    "        if self.y < 10:\n",
    "            self.y = self.y + 1\n",
    "        else: \n",
    "            print ('Movimento Indevido')\n",
    "        \n",
    "    def move_down(self):\n",
    "        if self.y > 0:\n",
    "            self.y = self.y - 1\n",
    "        else: \n",
    "            print ('Movimento Indevido')\n",
    "        \n",
    "    def move_left(self):\n",
    "        if self.x > 0:\n",
    "            self.x = self.x - 1\n",
    "        else: \n",
    "            print ('Movimento Indevido')\n",
    "            \n",
    "    def move_right(self):\n",
    "        if self.x < 10:\n",
    "            self.x = self.x + 1\n",
    "        else: \n",
    "            print ('Movimento Indevido')"
   ]
  }
 ],
 "metadata": {
  "kernelspec": {
   "display_name": "Python 3",
   "language": "python",
   "name": "python3"
  },
  "language_info": {
   "codemirror_mode": {
    "name": "ipython",
    "version": 3
   },
   "file_extension": ".py",
   "mimetype": "text/x-python",
   "name": "python",
   "nbconvert_exporter": "python",
   "pygments_lexer": "ipython3",
   "version": "3.6.3"
  }
 },
 "nbformat": 4,
 "nbformat_minor": 2
}
